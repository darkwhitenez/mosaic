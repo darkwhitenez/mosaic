{
 "cells": [
  {
   "cell_type": "code",
   "execution_count": 1,
   "metadata": {},
   "outputs": [],
   "source": [
    "import os, os.path\n",
    "from PIL import Image\n",
    "\n",
    "valid_images = [\".jpg\", \".jpeg\", \".png\"]"
   ]
  },
  {
   "cell_type": "markdown",
   "metadata": {},
   "source": [
    "## Script for resizing image dataset to sqaure tiles"
   ]
  },
  {
   "cell_type": "code",
   "execution_count": 8,
   "metadata": {},
   "outputs": [],
   "source": [
    "# output tiles width/height\n",
    "pic_size = 100\n",
    "# path to directory with images dataset\n",
    "dataset_path = \"IMAGES_DIRECTORY\"\n",
    "# path to output directory where the resized tiles will be stored\n",
    "dataset_path_resized = 'OUTPUT_DIRECTORY'"
   ]
  },
  {
   "cell_type": "code",
   "execution_count": 2,
   "metadata": {},
   "outputs": [],
   "source": [
    "def load_image(path):\n",
    "    image = Image.open(path)\n",
    "    return image\n",
    "\n",
    "# resize image to fixed size\n",
    "def resize_image(img, size):\n",
    "    img = img.resize(size, Image.ANTIALIAS)      \n",
    "    return img\n",
    "\n",
    "# load images, resize, and store in destination folder\n",
    "def load_and_resize_images(path, size=(50,50)):\n",
    "    for f in os.listdir(path):\n",
    "        ext = os.path.splitext(f)[1]\n",
    "        if ext.lower() not in valid_images:\n",
    "            continue\n",
    "        img = load_image(os.path.join(path,f))\n",
    "        label = os.path.splitext(f)[0]\n",
    "        img = resize_image(img, size)\n",
    "        img = img.convert('RGB')\n",
    "        output = dataset_path_resized + \"/\" + f\n",
    "        img.save(output, \"JPEG\", quality=90)\n",
    "    return\n",
    "         \n",
    "if not os.path.exists(dataset_path_resized):\n",
    "    os.makedirs(dataset_path_resized)\n",
    "load_and_resize_images(dataset_path, size=(pic_size,pic_size))"
   ]
  },
  {
   "cell_type": "code",
   "execution_count": null,
   "metadata": {},
   "outputs": [],
   "source": []
  }
 ],
 "metadata": {
  "kernelspec": {
   "display_name": "Python 3",
   "language": "python",
   "name": "python3"
  },
  "language_info": {
   "codemirror_mode": {
    "name": "ipython",
    "version": 3
   },
   "file_extension": ".py",
   "mimetype": "text/x-python",
   "name": "python",
   "nbconvert_exporter": "python",
   "pygments_lexer": "ipython3",
   "version": "3.6.1"
  }
 },
 "nbformat": 4,
 "nbformat_minor": 2
}
